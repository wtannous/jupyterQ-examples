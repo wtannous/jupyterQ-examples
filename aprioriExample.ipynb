{
 "cells": [
  {
   "cell_type": "markdown",
   "metadata": {},
   "source": [
    "## Apriori Algorithm Example ##\n",
    "### Created by William Tannous, Kx Systems ###\n",
    "##### Python algorithm reference: https://pypi.org/project/apyori/#####"
   ]
  },
  {
   "cell_type": "code",
   "execution_count": 1,
   "metadata": {},
   "outputs": [
    {
     "data": {
      "text/html": [
       "<style>.container { width:75% !important; }</style>"
      ],
      "text/plain": [
       "<IPython.core.display.HTML object>"
      ]
     },
     "metadata": {},
     "output_type": "display_data"
    }
   ],
   "source": [
    "p)from IPython.core.display import display, HTML\n",
    "p)display(HTML(\"<style>.container { width:75% !important; }</style>\"))\n",
    "apc:.p.import[`apyori;`:apriori]; / Import apriori class"
   ]
  },
  {
   "cell_type": "code",
   "execution_count": 2,
   "metadata": {},
   "outputs": [
    {
     "data": {
      "text/plain": [
       "20\n"
      ]
     },
     "execution_count": 2,
     "metadata": {},
     "output_type": "execute_result"
    }
   ],
   "source": [
    "count \",\" vs first read0 `:Market_Basket_Optimisation.csv / Number of Rows"
   ]
  },
  {
   "cell_type": "code",
   "execution_count": 3,
   "metadata": {},
   "outputs": [
    {
     "data": {
      "text/plain": [
       "\"shrimp\"            \"almonds\"      \"avocado\"       \"vegetables mix\"   \"green ..\n",
       "\"burgers\"           \"meatballs\"    \"eggs\"          \"\"                 \"\"     ..\n",
       "\"chutney\"           \"\"             \"\"              \"\"                 \"\"     ..\n",
       "\"turkey\"            \"avocado\"      \"\"              \"\"                 \"\"     ..\n",
       "\"mineral water\"     \"milk\"         \"energy bar\"    \"whole wheat rice\" \"green ..\n",
       "\"low fat yogurt\"    \"\"             \"\"              \"\"                 \"\"     ..\n",
       "\"whole wheat pasta\" \"french fries\" \"\"              \"\"                 \"\"     ..\n",
       "\"soup\"              \"light cream\"  \"shallot\"       \"\"                 \"\"     ..\n",
       "\"frozen vegetables\" \"spaghetti\"    \"green tea\"     \"\"                 \"\"     ..\n",
       "\"french fries\"      \"\"             \"\"              \"\"                 \"\"     ..\n",
       "\"eggs\"              \"pet food\"     \"\"              \"\"                 \"\"     ..\n",
       "\"cookies\"           \"\"             \"\"              \"\"                 \"\"     ..\n",
       "\"turkey\"            \"burgers\"      \"mineral water\" \"eggs\"             \"cookin..\n",
       "\"spaghetti\"         \"champagne\"    \"cookies\"       \"\"                 \"\"     ..\n",
       "\"mineral water\"     \"salmon\"       \"\"              \"\"                 \"\"     ..\n",
       "\"mineral water\"     \"\"             \"\"              \"\"                 \"\"     ..\n",
       "\"shrimp\"            \"chocolate\"    \"chicken\"       \"honey\"            \"oil\"  ..\n",
       "\"turkey\"            \"eggs\"         \"\"              \"\"                 \"\"     ..\n",
       "\"turkey\"            \"fresh tuna\"   \"tomatoes\"      \"spaghetti\"        \"minera..\n",
       "\"meatballs\"         \"milk\"         \"honey\"         \"french fries\"     \"protei..\n",
       "\"red wine\"          \"shrimp\"       \"pasta\"         \"pepper\"           \"eggs\" ..\n",
       "..\n"
      ]
     },
     "execution_count": 3,
     "metadata": {},
     "output_type": "execute_result"
    }
   ],
   "source": [
    "setc[]\n",
    "transactions:flip(20#\"*\";\",\")0:`:Market_Basket_Optimisation.csv / Importing transactions from CSV\n",
    "transactions"
   ]
  },
  {
   "cell_type": "code",
   "execution_count": 4,
   "metadata": {},
   "outputs": [],
   "source": [
    ".p.list:.p.eval\"list\" / Python list function\n",
    "hp:`transactions`min_support`min_confidence`min_lift`min_length!(transactions;0.003;0.2;3;2); / Hyperparams\n",
    "rules:apc[pykwargs hp];\n",
    "res:.p.list rules"
   ]
  },
  {
   "cell_type": "code",
   "execution_count": 6,
   "metadata": {},
   "outputs": [
    {
     "data": {
      "text/plain": [
       "association_rule                                        support     confidence                             lift                              \n",
       "---------------------------------------------------------------------------------------------------------------------------------------------\n",
       "\"frozen vegetables|mineral water|soup|milk\"             0.003066258 0.2771084 0.7666667 0.6052632 0.359375 5.484407 3.216312 4.670863 3.77017\n",
       "\"mineral water|frozen vegetables|milk|soup\"             0.003066258 0.2771084 0.7666667 0.6052632 0.359375 5.484407 3.216312 4.670863 3.77017\n",
       "\"ground beef|french fries|herb & pepper\"                0.003199573 0.2307692 0.4615385                    4.665768 4.697422                 \n",
       "\"french fries|ground beef|herb & pepper\"                0.003199573 0.2307692 0.4615385                    4.665768 4.697422                 \n",
       "\"frozen vegetables|shrimp|mineral water|chocolate\"      0.003199573 0.3287671 0.4210526                    4.6009 4.417225                   \n",
       "\"mineral water|frozen vegetables|chocolate|shrimp\"      0.003199573 0.3287671 0.4210526                    4.6009 4.417225                   \n",
       "\"frozen vegetables|mineral water|olive oil|milk\"        0.003332889 0.3012048 0.5102041 0.390625           4.573557 3.937285 4.098011        \n",
       "\"mineral water|frozen vegetables|milk|olive oil\"        0.003332889 0.3012048 0.5102041 0.390625           4.573557 3.937285 4.098011        \n",
       "\"frozen vegetables|tomatoes|cake\"                       0.003066258 0.2987013 0.3650794                    4.36756 3.830014                  \n",
       "\"frozen vegetables|tomatoes|cake\"                       0.003066258 0.2987013 0.3650794                    4.36756 3.830014                  \n",
       "\"tomatoes|soup|milk\"                                    0.003066258 0.2190476 0.4423077                    4.335293 3.413323                 \n",
       "\"tomatoes|soup|milk\"                                    0.003066258 0.2190476 0.4423077                    4.335293 3.413323                 \n",
       "\"ground beef|eggs|herb & pepper\"                        0.004132782 0.2066667 0.3297872                    4.178455 3.356491                 \n",
       "\"eggs|ground beef|herb & pepper\"                        0.004132782 0.2066667 0.3297872                    4.178455 3.356491                 \n",
       "\"soup|olive oil|milk\"                                   0.00359952  0.2109375 0.2368421 0.4029851          4.174781 3.59626 3.109867         \n",
       "\"soup|olive oil|milk\"                                   0.00359952  0.2109375 0.2368421 0.4029851          4.174781 3.59626 3.109867         \n",
       "\"frozen vegetables|shrimp|mineral water|spaghetti\"      0.003332889 0.2777778 0.390625                     3.887334 4.098011                 \n",
       "\"mineral water|spaghetti|frozen vegetables|shrimp\"      0.003332889 0.2777778 0.390625                     3.887334 4.098011                 \n",
       "\"cereals|ground beef|spaghetti\"                         0.003066258 0.6764706 0.46                         3.885303 4.681764                 \n",
       "\"ground beef|cereals|spaghetti\"                         0.003066258 0.6764706 0.46                         3.885303 4.681764                 \n",
       "\"frozen vegetables|spaghetti|tomatoes|mineral water\"    0.003066258 0.2555556 0.5227273 0.3285714          3.73669 3.00228 3.447013          \n",
       "\"mineral water|spaghetti|frozen vegetables|tomatoes\"    0.003066258 0.2555556 0.5227273 0.3285714          3.73669 3.00228 3.447013          \n",
       "\"chicken|olive oil|milk\"                                0.00359952  0.2432432 0.5 0.2109375                3.693457 3.858539 3.516094        \n",
       "\"chicken|olive oil|milk\"                                0.00359952  0.2432432 0.5 0.2109375                3.693457 3.858539 3.516094        \n",
       "\"frozen smoothie|mineral water|spaghetti|milk\"          0.003199573 0.4705882 0.2033898                    3.631566 3.211847                 \n",
       "\"mineral water|frozen smoothie|spaghetti|milk\"          0.003199573 0.4705882 0.2033898                    3.631566 3.211847                 \n",
       "\"spaghetti|tomatoes|olive oil\"                          0.004399413 0.6111111 0.2101911                    3.509912 3.191586                 \n",
       "\"spaghetti|tomatoes|olive oil\"                          0.004399413 0.6111111 0.2101911                    3.509912 3.191586                 \n",
       "\"frozen vegetables|tomatoes|shrimp\"                     0.003999467 0.24 0.2479339 0.3571429               3.50924 3.469687 3.746753         \n",
       "\"frozen vegetables|tomatoes|shrimp\"                     0.003999467 0.24 0.2479339 0.3571429               3.50924 3.469687 3.746753         \n",
       "\"frozen vegetables|spaghetti|tomatoes\"                  0.006665778 0.2392344 0.3184713                    3.498046 3.341054                 \n",
       "\"frozen vegetables|spaghetti|tomatoes\"                  0.006665778 0.2392344 0.3184713                    3.498046 3.341054                 \n",
       "\"ground beef|frozen vegetables|mineral water|chocolate\" 0.003332889 0.3424658 0.304878                     3.48553 3.198448                  \n",
       "\"mineral water|ground beef|frozen vegetables|chocolate\" 0.003332889 0.3424658 0.304878                     3.48553 3.198448                  \n",
       "\"frozen vegetables|spaghetti|chocolate|milk\"            0.003466205 0.440678 0.3170732                     3.400746 3.326386                 \n",
       "\"spaghetti|frozen vegetables|chocolate|milk\"            0.003466205 0.440678 0.3170732                     3.400746 3.326386                 \n",
       "\"ground beef|tomato sauce|spaghetti\"                    0.003066258 0.575 0.4893617                        3.302508 4.9806                   \n",
       "\"ground beef|spaghetti|tomato sauce\"                    0.003066258 0.575 0.4893617                        3.302508 4.9806                   \n",
       "\"ground beef|cooking oil|spaghetti\"                     0.00479936  0.5714286 0.302521                     3.281995 3.078982                 \n",
       "\"cooking oil|ground beef|spaghetti\"                     0.00479936  0.5714286 0.302521                     3.281995 3.078982                 \n",
       "\"frozen vegetables|shrimp|chocolate\"                    0.005332622 0.2325581 0.2962963                    3.254512 3.108418                 \n",
       "\"frozen vegetables|shrimp|chocolate\"                    0.005332622 0.2325581 0.2962963                    3.254512 3.108418                 \n",
       "\"ground beef|mineral water|spaghetti|tomatoes\"          0.003066258 0.5609756 0.3285714                    3.221959 3.344117                 \n",
       "\"mineral water|spaghetti|ground beef|tomatoes\"          0.003066258 0.5609756 0.3285714                    3.221959 3.344117                 \n",
       "\"ground beef|frozen vegetables|mineral water|milk\"      0.003732836 0.4057971 0.3373494 0.3373494          3.131568 3.433457 3.539102        \n",
       "\"mineral water|ground beef|frozen vegetables|milk\"      0.003732836 0.4057971 0.3373494 0.3373494          3.131568 3.433457 3.539102        \n",
       "\"frozen vegetables|olive oil|milk\"                      0.00479936  0.2033898 0.4235294                    3.088314 3.26841                  \n",
       "\"frozen vegetables|olive oil|milk\"                      0.00479936  0.2033898 0.4235294                    3.088314 3.26841                  \n",
       "\"ground beef|frozen vegetables|spaghetti|chocolate\"     0.003066258 0.5348837 0.3898305 0.3333333          3.0721 3.967597 3.49697           \n",
       "\"spaghetti|ground beef|frozen vegetables|chocolate\"     0.003066258 0.5348837 0.3898305 0.3333333          3.0721 3.967597 3.49697           \n",
       "\"ground beef|frozen vegetables|spaghetti|milk\"          0.003066258 0.5348837 0.3709677 0.3150685          3.0721 3.775616 3.305355          \n",
       "\"spaghetti|ground beef|frozen vegetables|milk\"          0.003066258 0.5348837 0.3709677 0.3150685          3.0721 3.775616 3.305355          \n",
       "\"mineral water|whole wheat pasta|olive oil\"             0.003866151 0.4027778                              6.115863                          \n",
       "\"mineral water|whole wheat pasta|olive oil\"             0.003866151 0.4027778                              6.115863                          \n",
       "\"honey|fromage blanc\"                                   0.003332889 0.245098                               5.164271                          \n",
       "\"honey|fromage blanc\"                                   0.003332889 0.245098                               5.164271                          \n",
       "\"chicken|light cream\"                                   0.004532729 0.2905983                              4.843951                          \n",
       "\"chicken|light cream\"                                   0.004532729 0.2905983                              4.843951                          \n",
       "\"pasta|escalope\"                                        0.005865885 0.3728814                              4.700812                          \n",
       "\"pasta|escalope\"                                        0.005865885 0.3728814                              4.700812                          \n",
       "\"pasta|shrimp\"                                          0.005065991 0.3220339                              4.506672                          \n",
       "\"pasta|shrimp\"                                          0.005065991 0.3220339                              4.506672                          \n",
       "\"ground beef|herb & pepper|chocolate\"                   0.003999467 0.4411765                              4.490183                          \n",
       "\"ground beef|herb & pepper|chocolate\"                   0.003999467 0.4411765                              4.490183                          \n",
       "\"whole wheat pasta|olive oil\"                           0.007998933 0.2714932                              4.12241                           \n",
       "\"whole wheat pasta|olive oil\"                           0.007998933 0.2714932                              4.12241                           \n",
       "\"ground beef|herb & pepper|spaghetti\"                   0.006399147 0.3934426                              4.00436                           \n",
       "\"ground beef|herb & pepper|spaghetti\"                   0.006399147 0.3934426                              4.00436                           \n",
       "\"ground beef|herb & pepper|milk\"                        0.00359952  0.3913043                              3.982597                          \n",
       "\"ground beef|herb & pepper|milk\"                        0.00359952  0.3913043                              3.982597                          \n",
       "\"ground beef|herb & pepper|mineral water\"               0.006665778 0.390625                               3.975683                          \n",
       "\"ground beef|herb & pepper|mineral water\"               0.006665778 0.390625                               3.975683                          \n",
       "\"frozen vegetables|soup|milk\"                           0.003999467 0.5                                    3.858539                          \n",
       "\"frozen vegetables|soup|milk\"                           0.003999467 0.5                                    3.858539                          \n",
       "\"ground beef|tomato sauce\"                              0.005332622 0.3773585                              3.840659                          \n",
       "\"ground beef|tomato sauce\"                              0.005332622 0.3773585                              3.840659                          \n",
       "\"escalope|mushroom cream sauce\"                         0.005732569 0.3006993                              3.790833                          \n",
       "\"escalope|mushroom cream sauce\"                         0.005732569 0.3006993                              3.790833                          \n",
       "\"ground beef|frozen vegetables|spaghetti|mineral water\" 0.004399413 0.3666667                              3.731841                          \n",
       "\"mineral water|spaghetti|ground beef|frozen vegetables\" 0.004399413 0.3666667                              3.731841                          \n",
       "\"mineral water|spaghetti|chocolate|olive oil\"           0.003866151 0.2436975                              3.700354                          \n",
       "\"mineral water|spaghetti|chocolate|olive oil\"           0.003866151 0.2436975                              3.700354                          \n",
       "\"whole wheat pasta|spaghetti|milk\"                      0.003999467 0.4545455                              3.507763                          \n",
       "\"whole wheat pasta|spaghetti|milk\"                      0.003999467 0.4545455                              3.507763                          \n",
       "\"ground beef|pepper|spaghetti\"                          0.003332889 0.3378378                              3.438428                          \n",
       "\"ground beef|pepper|spaghetti\"                          0.003332889 0.3378378                              3.438428                          \n",
       "\"mineral water|soup|olive oil\"                          0.005199307 0.2254335                              3.42303                           \n",
       "\"mineral water|soup|olive oil\"                          0.005199307 0.2254335                              3.42303                           \n",
       "\"ground beef|olive oil|milk\"                            0.004932676 0.2242424                              3.404944                          \n",
       "\"ground beef|olive oil|milk\"                            0.004932676 0.2242424                              3.404944                          \n",
       "\"frozen vegetables|tomatoes|green tea\"                  0.003332889 0.2314815                              3.384683                          \n",
       "\"frozen vegetables|tomatoes|green tea\"                  0.003332889 0.2314815                              3.384683                          \n",
       "\"ground beef|herb & pepper\"                             0.01599787  0.3234501                              3.291994                          \n",
       "\"ground beef|herb & pepper\"                             0.01599787  0.3234501                              3.291994                          \n",
       "\"ground beef|spaghetti|grated cheese\"                   0.005332622 0.3225806                              3.283144                          \n",
       "..\n"
      ]
     },
     "execution_count": 6,
     "metadata": {},
     "output_type": "execute_result"
    }
   ],
   "source": [
    "\\c 100 200\n",
    "apriori:{[hp]\n",
    "    res:.p.list apc[pykwargs hp]; / Performs python algorithm\n",
    "    flip(`association_rule`support!(\"|\"sv' except[;enl\"\"]each .p.list[<;]each(res`)[;0];(res`)[;1])), / Gets association and support rule\n",
    "        flip{k:`confidence`lift;\n",
    "            $[1<count x;\n",
    "            flip(k!)each x;\n",
    "            k!raze x]\n",
    "            }each((2_/:)each(res`)[;2]) / Gets Confidence and lift from nested python frozenset object\n",
    "    }\n",
    "`lift xdesc apriori hp"
   ]
  },
  {
   "cell_type": "markdown",
   "metadata": {},
   "source": [
    "### The table above displays, the all the association rules above the specified minimum support/confidence/lift values. The results are sorted by decreasing lift which is a performance measure of the association rule###"
   ]
  },
  {
   "cell_type": "markdown",
   "metadata": {},
   "source": [
    "### From the results, common association rules in the data set are:\n",
    "#### - Given mineral water is purchased, whole wheat pasta and olive oil are purchased ####\n",
    "#### - Given chicken is purchased, light cream is purchased ####\n",
    "#### - Given honey is purchased, fromage blanc is purchased (apparently this a popular dish in Southern France)####"
   ]
  }
 ],
 "metadata": {
  "kernelspec": {
   "display_name": "Q 3.5",
   "language": "q",
   "name": "qpk"
  },
  "language_info": {
   "file_extension": ".q",
   "mimetype": "text/x-q",
   "name": "q",
   "version": "3.5.0"
  }
 },
 "nbformat": 4,
 "nbformat_minor": 2
}
