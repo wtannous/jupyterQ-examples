{
 "cells": [
  {
   "cell_type": "markdown",
   "metadata": {},
   "source": [
    "## Thompson Sampling Example ##\n",
    "### Solving the bandit problem ###\n",
    "### By: William Tannous, Kx Systems ###"
   ]
  },
  {
   "cell_type": "code",
   "execution_count": 5,
   "metadata": {},
   "outputs": [],
   "source": [
    "// Simulation Data Load\n",
    "\n",
    "d:10 / Arms - num_of_advertisements in this example\n",
    "sim_data:(d#\"b\";enl\",\")0:`:Ads_CTR_Optimisation.csv / Simulation Data"
   ]
  },
  {
   "cell_type": "code",
   "execution_count": 6,
   "metadata": {},
   "outputs": [
    {
     "data": {
      "text/plain": [
       "totalReward  | 2605\n",
       "rewardsByArm | 21 10 5 7 2549 0 3 6 2 2\n",
       "allSelections| 9 7 0 5 1 6 3 3 4 8 7 2 0 8 8 2 7 8 3 6 3 9 0 9 4 8 5 9 7 1 4 ..\n",
       "selByArm     | 134 81 56 66 9454 24 43 65 39 38\n"
      ]
     },
     "execution_count": 6,
     "metadata": {},
     "output_type": "execute_result"
    }
   ],
   "source": [
    "//\n",
    "// @desc Performs Thompson's Sampling Algorithm on a table of simulation rounds.\n",
    "//\n",
    "// @param sim_data  {table} Simulation Data.\n",
    "//\n",
    "// @return {dictionary} Results of the algorithm's performance on the simulation data:\n",
    "//                              1. Total Reward from the simulation.\n",
    "//                              2. Reward for each arm.\n",
    "//                              3. List of selections made.\n",
    "//                              4. Number of selections by arm.\n",
    "//\n",
    "thompSampAlg:{[sim_data]\n",
    "    r:.p.import`random; / Import Randomness Python package\n",
    "    truth:flip value flip sim_data; / Convert table into matrix\n",
    "    \n",
    "    //\n",
    "    // Reset Globals\n",
    "    //\n",
    "    totalR::0;\n",
    "    selections::();\n",
    "    rewards::count[first truth]#0;\n",
    "    selByArm::count[first truth]#0;\n",
    "    fails::count[first truth]#0;\n",
    "\n",
    "    selectArm:{[r;truth]\n",
    "        round+:1;\n",
    "        rSample:r[`:betavariate;<]'[rewards+1;fails+1]; / Take random sample from beta distribution\n",
    "        sel:rSample?max rSample; / Selected arm\n",
    "        selByArm[sel]+:1; / Increment selection list\n",
    "        rewards[sel]+:truth sel; / Increment reward list\n",
    "        fails[sel]+:not truth sel; / Increment fails list\n",
    "        totalR+:truth sel; / Increment total reward\n",
    "        selections,:sel;\n",
    "        }[r;]each truth;\n",
    "    `totalReward`rewardsByArm`allSelections`selByArm!(totalR;rewards;selections;selByArm)\n",
    "    }\n",
    "res:thompSampAlg sim_data\n",
    "res"
   ]
  },
  {
   "cell_type": "code",
   "execution_count": 7,
   "metadata": {},
   "outputs": [
    {
     "data": {
      "image/png": "[encoded data removed]",
      "text/plain": [
       "<matplotlib.figure.Figure at 0x7fde166c8710>"
      ]
     },
     "metadata": {},
     "output_type": "display_data"
    }
   ],
   "source": [
    "plt:.matplotlib.pyplot[];\n",
    "plt.figure[`figsize pykw 10 10];\n",
    "plt.hist(selections);\n",
    "plt.title\"Histogram of ads selections (Thompson Algorithm)\";\n",
    "plt.xlabel\"Ads\";\n",
    "plt.ylabel\"Number of times each ad was selected\";\n",
    "plt.show[];"
   ]
  },
  {
   "cell_type": "markdown",
   "metadata": {},
   "source": [
    "### Now we can compare this to random selection ###"
   ]
  },
  {
   "cell_type": "code",
   "execution_count": 8,
   "metadata": {},
   "outputs": [
    {
     "data": {
      "text/plain": [
       "totalReward  | 1269\n",
       "rewardsByArm | 152 137 75 139 271 9 130 199 110 47\n",
       "allSelections| 5 8 3 1 6 4 2 0 1 3 3 3 8 6 9 7 8 1 0 4 6 4 8 1 9 9 5 3 3 8 6 ..\n",
       "selByArm     | 993 965 983 999 999 973 1064 1011 1057 956\n"
      ]
     },
     "execution_count": 8,
     "metadata": {},
     "output_type": "execute_result"
    }
   ],
   "source": [
    "randomSel:{[sim]\n",
    "    truth:flip value flip sim_data;\n",
    "    rewards::count[first truth]#0;\n",
    "    selByArm::count[first truth]#0;\n",
    "    totalR::0;\n",
    "    selections::();\n",
    "    round+:1;\n",
    "    {[truth]sel:rand d; / Selected arm\n",
    "        selByArm[sel]+:1; / Increment selection list\n",
    "        rewards[sel]+:truth sel; / Increment reward list\n",
    "        totalR+:truth sel; / Increment total reward\n",
    "        selections,:sel;}each truth;\n",
    "    `totalReward`rewardsByArm`allSelections`selByArm!(totalR;rewards;selections;selByArm)\n",
    "    }\n",
    "randomSel sim_data"
   ]
  },
  {
   "cell_type": "code",
   "execution_count": 9,
   "metadata": {},
   "outputs": [
    {
     "data": {
      "image/png": "[encoded data removed]",
      "text/plain": [
       "<matplotlib.figure.Figure at 0x7fde1667ecc0>"
      ]
     },
     "metadata": {},
     "output_type": "display_data"
    }
   ],
   "source": [
    "plt:.matplotlib.pyplot[];\n",
    "plt.figure[`figsize pykw 10 10];\n",
    "plt.hist(selections);\n",
    "plt.title\"Histogram of ads selections (Random)\";\n",
    "plt.xlabel\"Ads\";\n",
    "plt.ylabel\"Number of times each ad was selected\";\n",
    "plt.show[];"
   ]
  },
  {
   "cell_type": "markdown",
   "metadata": {},
   "source": [
    "### The Histogram above shows a nearly uniform selection distribution of the advertisements###\n",
    "### As expected this resulted in a lower reward than employing the UCB algorithm (2605 vs. 1269)###"
   ]
  }
 ],
 "metadata": {
  "kernelspec": {
   "display_name": "Q 3.5",
   "language": "q",
   "name": "qpk"
  },
  "language_info": {
   "file_extension": ".q",
   "mimetype": "text/x-q",
   "name": "q",
   "version": "3.5.0"
  }
 },
 "nbformat": 4,
 "nbformat_minor": 2
}
