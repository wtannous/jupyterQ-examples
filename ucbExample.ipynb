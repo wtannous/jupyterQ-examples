{
 "cells": [
  {
   "cell_type": "markdown",
   "metadata": {},
   "source": [
    "## Upper Confidence Bound Algorithm ##\n",
    "### Solving the bandit problem: Which advertisement will provide the best return? ###\n",
    "### By: William Tannous, Kx Systems ###"
   ]
  },
  {
   "cell_type": "code",
   "execution_count": 1,
   "metadata": {},
   "outputs": [],
   "source": [
    "// Simulation Data Load\n",
    "\n",
    "d:10 / Arms - num_of_advertisements in this example\n",
    "sim_data:(d#\"b\";enl\",\")0:`:Ads_CTR_Optimisation.csv / Simulation Data"
   ]
  },
  {
   "cell_type": "code",
   "execution_count": 2,
   "metadata": {},
   "outputs": [
    {
     "data": {
      "text/plain": [
       "totalReward  | 2244\n",
       "rewardsByArm | 102 50 8 51 1773 2 30 205 20 3\n",
       "allSelections| 0 1 2 3 4 5 6 7 8 9 0 1 2 3 4 5 6 7 8 9 0 0 1 2 3 4 5 6 7 8 8 ..\n",
       "selByArm     | 615 391 186 396 6531 151 298 1026 249 157\n"
      ]
     },
     "execution_count": 2,
     "metadata": {},
     "output_type": "execute_result"
    }
   ],
   "source": [
    "//\n",
    "// @desc Performs Upper Confidence Bound Algorithm on a table of simulation rounds.\n",
    "//\n",
    "// @param sim_data  {table} Simulation Data.\n",
    "//\n",
    "// @return {dictionary} Results of the algorithm's performance on the simulation data:\n",
    "//                              1. Total Reward from the simulation.\n",
    "//                              2. Reward for each arm.\n",
    "//                              3. List of selections made.\n",
    "//                              4. Number of selections by arm.\n",
    "//\n",
    "ucbAlg:{[sim_data]\n",
    "    truth:flip value flip sim_data; / Convert table into matrix\n",
    "    \n",
    "    //\n",
    "    // Reset Globals\n",
    "    //\n",
    "    totalR::0;\n",
    "    selections::();\n",
    "    rewards::count[first truth]#0;\n",
    "    selByArm::count[first truth]#0;\n",
    "    \n",
    "    selectArm:{[truth]\n",
    "        round+:1;\n",
    "\n",
    "        //\n",
    "        // First i (count of arms) rounds every arm is chosen\n",
    "        // \n",
    "        if[0 in selByArm;\n",
    "            sel:first where 0=selByArm; / Selected arm\n",
    "            selByArm[sel]+:1; / Increment selection list\n",
    "            rewards[sel]+:truth sel; / Increment reward list\n",
    "            totalR+:truth sel; / Increment total reward\n",
    "            selections,:sel;\n",
    "            :(::)];\n",
    "        ub:(rewards%selByArm)+sqrt 1.5*log[round+1]%selByArm; / Upper bound\n",
    "        sel:ub?max ub; / Selected arm\n",
    "        selByArm[sel]+:1; / Increment selection list\n",
    "        rewards[sel]+:truth sel; / Increment reward list\n",
    "        totalR+:truth sel; / Increment total reward\n",
    "        selections,:sel;\n",
    "        }each truth;\n",
    "    `totalReward`rewardsByArm`allSelections`selByArm!(totalR;rewards;selections;selByArm)\n",
    "    }\n",
    "res:ucbAlg sim_data\n",
    "res"
   ]
  },
  {
   "cell_type": "code",
   "execution_count": 3,
   "metadata": {},
   "outputs": [
    {
     "data": {
      "image/png": "[encoded data removed]",
      "text/plain": [
       "<matplotlib.figure.Figure at 0x7f2c736dfc50>"
      ]
     },
     "metadata": {},
     "output_type": "display_data"
    }
   ],
   "source": [
    "plt:.matplotlib.pyplot[];\n",
    "plt.figure[`figsize pykw 10 10];\n",
    "plt.hist(selections);\n",
    "plt.title\"Histogram of ads selections (UCB)\";\n",
    "plt.xlabel\"Ads\";\n",
    "plt.ylabel\"Number of times each ad was selected\";\n",
    "plt.show[];"
   ]
  },
  {
   "cell_type": "markdown",
   "metadata": {},
   "source": [
    "#### From inspection of the histogram above, we see that the UCB algorithm has determined the fifth advertisement provides the best reward and therefore it was exploited more often at the end of the of the simulation #### "
   ]
  },
  {
   "cell_type": "code",
   "execution_count": 4,
   "metadata": {},
   "outputs": [
    {
     "data": {
      "text/plain": [
       "1765\n"
      ]
     },
     "execution_count": 4,
     "metadata": {},
     "output_type": "execute_result"
    }
   ],
   "source": [
    "count where 4=-2000#res`allSelections / Number of times Ad#5 was chosen in the last 2000 rounds of the simulation"
   ]
  },
  {
   "cell_type": "code",
   "execution_count": 5,
   "metadata": {},
   "outputs": [
    {
     "data": {
      "text/plain": [
       "totalReward  | 1270\n",
       "rewardsByArm | 172 140 65 139 277 6 117 209 93 52\n",
       "allSelections| 8 1 9 5 4 6 6 1 8 5 4 9 2 7 0 1 9 2 1 8 8 1 7 2 4 5 4 2 7 8 5 ..\n",
       "selByArm     | 1008 988 969 1054 977 986 1004 1029 977 1008\n"
      ]
     },
     "execution_count": 5,
     "metadata": {},
     "output_type": "execute_result"
    }
   ],
   "source": [
    "randomSel:{[sim]\n",
    "    truth:flip value flip sim_data;\n",
    "    rewards::count[first truth]#0;\n",
    "    selByArm::count[first truth]#0;\n",
    "    totalR::0;\n",
    "    selections::();\n",
    "    round+:1;\n",
    "    {[truth]sel:rand d; / Selected arm\n",
    "        selByArm[sel]+:1; / Increment selection list\n",
    "        rewards[sel]+:truth sel; / Increment reward list\n",
    "        totalR+:truth sel; / Increment total reward\n",
    "        selections,:sel;}each truth;\n",
    "    `totalReward`rewardsByArm`allSelections`selByArm!(totalR;rewards;selections;selByArm)\n",
    "    }\n",
    "randomSel sim_data"
   ]
  },
  {
   "cell_type": "code",
   "execution_count": 6,
   "metadata": {},
   "outputs": [
    {
     "data": {
      "image/png": "[encoded data removed]",
      "text/plain": [
       "<matplotlib.figure.Figure at 0x7f2c5efccb38>"
      ]
     },
     "metadata": {},
     "output_type": "display_data"
    }
   ],
   "source": [
    "plt:.matplotlib.pyplot[];\n",
    "plt.figure[`figsize pykw 10 10];\n",
    "plt.hist(selections);\n",
    "plt.title\"Histogram of ads selections (Random)\";\n",
    "plt.xlabel\"Ads\";\n",
    "plt.ylabel\"Number of times each ad was selected\";\n",
    "plt.show[];"
   ]
  },
  {
   "cell_type": "markdown",
   "metadata": {},
   "source": [
    "#### The Histogram above shows a nearly uniform selection distribution of the advertisements ####\n",
    "#### As expected this resulted in a lower reward than employing the UCB algorithm (2244 vs. 1270)####"
   ]
  }
 ],
 "metadata": {
  "kernelspec": {
   "display_name": "Q 3.5",
   "language": "q",
   "name": "qpk"
  },
  "language_info": {
   "file_extension": ".q",
   "mimetype": "text/x-q",
   "name": "q",
   "version": "3.5.0"
  }
 },
 "nbformat": 4,
 "nbformat_minor": 2
}
